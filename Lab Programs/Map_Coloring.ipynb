{
  "nbformat": 4,
  "nbformat_minor": 0,
  "metadata": {
    "colab": {
      "provenance": []
    },
    "kernelspec": {
      "name": "python3",
      "display_name": "Python 3"
    },
    "language_info": {
      "name": "python"
    }
  },
  "cells": [
    {
      "cell_type": "code",
      "execution_count": null,
      "metadata": {
        "colab": {
          "base_uri": "https://localhost:8080/"
        },
        "id": "Slc0W4QpMy7T",
        "outputId": "0897bcbe-5a80-42a5-f0fa-523497aa52c9"
      },
      "outputs": [
        {
          "output_type": "stream",
          "name": "stdout",
          "text": [
            "Coloring of the map:\n",
            "WA: Red\n",
            "NT: Green\n",
            "SA: Blue\n",
            "Q: Red\n",
            "NSW: Green\n",
            "V: Red\n",
            "T: Red\n"
          ]
        }
      ],
      "source": [
        "aus_map={\n",
        "    'WA':['NT','SA'],\n",
        "    'NT':['WA','SA','Q'],\n",
        "    'SA':['WA','NT','Q','NSW','V'],\n",
        "    'Q':['NT','SA','NSW'],\n",
        "    'NSW':['Q','SA','V'],\n",
        "    'V':['SA','NSW'],\n",
        "    'T':[]\n",
        "}\n",
        "\n",
        "colors=['Red','Green','Blue']\n",
        "\n",
        "def is_safe(region,color,assigned):\n",
        "  neighbors=aus_map[region]\n",
        "  for neighbor in neighbors:\n",
        "    if assigned.get(neighbor)==color:\n",
        "      return False\n",
        "  return True\n",
        "\n",
        "  def color_map(region,assigned):\n",
        "    if len(assigned)==len(aus_map):\n",
        "      return True\n",
        "\n",
        "    for color in colors:\n",
        "     if is_safe(region,color,assigned):\n",
        "      assigned[region]=color\n",
        "      next_region=next((r for r in aus_map if r not in assigned),None)\n",
        "      if not next_region or color_map(next_region,assigned):\n",
        "        return True\n",
        "        assigned.pop(region)\n",
        "\n",
        "     return False\n",
        "def main():\n",
        "    color_assignment = {}\n",
        "    regions = list(aus_map.keys())\n",
        "\n",
        "    if color_map(regions[0], color_assignment):\n",
        "        print(\"Coloring of the map:\")\n",
        "        for region, color in color_assignment.items():\n",
        "            print(f\"{region}: {color}\")\n",
        "    else:\n",
        "        print(\"No solution found.\")\n",
        "\n",
        "if __name__ == \"__main__\":\n",
        "    main()\n"
      ]
    }
  ]
}
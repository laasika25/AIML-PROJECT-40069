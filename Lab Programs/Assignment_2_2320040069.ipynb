{
  "nbformat": 4,
  "nbformat_minor": 0,
  "metadata": {
    "colab": {
      "provenance": []
    },
    "kernelspec": {
      "name": "python3",
      "display_name": "Python 3"
    },
    "language_info": {
      "name": "python"
    }
  },
  "cells": [
    {
      "cell_type": "markdown",
      "source": [
        "Uninformed Search Technique:-\n",
        "1.DFS\n",
        "2.BFS\n",
        "3.IDS"
      ],
      "metadata": {
        "id": "V0_towEfQ0q6"
      }
    },
    {
      "cell_type": "markdown",
      "source": [
        "1.Depth First Search(DFS):-"
      ],
      "metadata": {
        "id": "V3AfOkgLwmBD"
      }
    },
    {
      "cell_type": "code",
      "source": [
        "def dfs(dfst,A,P,path=None): #A is the Start node here and P is the Goal node\n",
        "    if path is None:\n",
        "        path=[]\n",
        "    path.append(A)\n",
        "    if A==P:\n",
        "        return path\n",
        "    for neighbor in dfst[A]: #dfst is the graph\n",
        "        if neighbor not in path:\n",
        "            result=dfs(dfst,neighbor,P,path)\n",
        "            if result:\n",
        "                return result\n",
        "\n",
        "    path.pop()\n",
        "    return None\n",
        "\n",
        "graph = {\n",
        "    'A': ['B', 'C', 'D'], #Starting level\n",
        "    'B': ['E', 'F', 'G'],'C': ['H'],'D': ['I', 'J', 'K'],#1st level\n",
        "    'E': ['L'],'F': ['M'],'G': ['N'],'H': ['O', 'P'],'I': ['Q', 'R'],'J': ['S'],'K': ['T'],#2nd level\n",
        "    'L': [],'M': [],'N': [],'O': [],'P': [],'Q': [],'R': [],'S': [],'T': []#3rd level\n",
        "}\n",
        "path_dfs = dfs(graph, 'A', 'P')\n",
        "print(f\"DFS Path Traversed is : {path_dfs}\")\n"
      ],
      "metadata": {
        "colab": {
          "base_uri": "https://localhost:8080/"
        },
        "id": "1LzGZ2SmwjOP",
        "outputId": "bcc4a814-4683-48aa-f29c-abae02a0e7bc"
      },
      "execution_count": null,
      "outputs": [
        {
          "output_type": "stream",
          "name": "stdout",
          "text": [
            "DFS Path Traversed is : ['A', 'C', 'H', 'P']\n"
          ]
        }
      ]
    },
    {
      "cell_type": "markdown",
      "source": [
        "2.Breadth First Search:-"
      ],
      "metadata": {
        "id": "YzWvTDd92Lzh"
      }
    },
    {
      "cell_type": "code",
      "source": [
        "def bfs(graph,A,P):\n",
        "    queue = [[A]]\n",
        "\n",
        "    while queue:\n",
        "        path = queue.pop(0)\n",
        "        node = path[-1]\n",
        "        if node == P:\n",
        "            return path\n",
        "        for neighbor in graph[node]:\n",
        "            new_path = list(path)\n",
        "            new_path.append(neighbor)\n",
        "            queue.append(new_path)\n",
        "    return None\n",
        "graph = {\n",
        "    'A': ['B', 'C', 'D'],#0th level\n",
        "    'B': ['E', 'F', 'G'],'C': ['H'],'D': ['I', 'J', 'K'],#1st level\n",
        "    'E': ['L'],'F': ['M'],'G': ['N'],'H': ['O', 'P'],'I': ['Q', 'R'],'J': ['S'],'K': ['T'],#2nd level\n",
        "    'L': [],'M': [],'N': [],'O': [],'P': [],'Q': [],'R': [],'S': [],'T': []#3rd level\n",
        "}\n",
        "path_bfs = bfs(graph, 'A', 'P')\n",
        "print(f\"BFS Path Traversed is : {path_bfs}\")"
      ],
      "metadata": {
        "colab": {
          "base_uri": "https://localhost:8080/"
        },
        "id": "1thozGVf2Pwt",
        "outputId": "3b9cc04b-b721-4ef2-e190-f20fec4461ec"
      },
      "execution_count": null,
      "outputs": [
        {
          "output_type": "stream",
          "name": "stdout",
          "text": [
            "BFS Path Traversed is : ['A', 'C', 'H', 'P']\n"
          ]
        }
      ]
    },
    {
      "cell_type": "markdown",
      "source": [
        "3.Iterative Deepening Search:-"
      ],
      "metadata": {
        "id": "hL5UnIqE23y1"
      }
    },
    {
      "cell_type": "code",
      "source": [
        "def dls(graph, start, goal, depth, path=None):\n",
        "    if path is None:\n",
        "        path = []\n",
        "    path.append(start)\n",
        "\n",
        "    if start == goal:\n",
        "        return path\n",
        "\n",
        "    if depth <= 0:\n",
        "        path.pop()\n",
        "        return None\n",
        "\n",
        "    for neighbor in graph[start]:\n",
        "        if neighbor not in path:\n",
        "            result = dls(graph, neighbor, goal, depth - 1, path)\n",
        "            if result:\n",
        "                return result\n",
        "    path.pop()\n",
        "    return None\n",
        "\n",
        "def ids(graph, start, goal, max_depth):\n",
        "    for depth in range(max_depth):\n",
        "        path = dls(graph, start, goal, depth)\n",
        "        if path:\n",
        "            return path\n",
        "    return None\n",
        "\n",
        "graph = {\n",
        "    'A': ['B', 'C', 'D'],\n",
        "    'B': ['E', 'F', 'G'],'C': ['H'],'D': ['I', 'J', 'K'],\n",
        "    'E': ['L'],'F': ['M'],'G': ['N'],'H': ['O', 'P'],'I': ['Q', 'R'],'J': ['S'],'K': ['T'],\n",
        "    'L': [],'M': [],'N': [],'O': [],'P': [],'Q': [],'R': [],'S': [],'T': []\n",
        "}\n",
        "\n",
        "path_ids = ids(graph, 'A', 'P', 10)\n",
        "print(f\"IDS Path: {path_ids}\")\n"
      ],
      "metadata": {
        "colab": {
          "base_uri": "https://localhost:8080/"
        },
        "id": "-aiicHpP3J1b",
        "outputId": "f3351ef6-40a0-4f6b-c7e3-3ec5be6d62f1"
      },
      "execution_count": null,
      "outputs": [
        {
          "output_type": "stream",
          "name": "stdout",
          "text": [
            "IDS Path: ['A', 'C', 'H', 'P']\n"
          ]
        }
      ]
    },
    {
      "cell_type": "markdown",
      "source": [
        "Informed Search Technique:-\n",
        "1.A*\n",
        "2.BFS"
      ],
      "metadata": {
        "id": "LnuCf_SZQ0fg"
      }
    },
    {
      "cell_type": "markdown",
      "source": [
        "1.A* Search"
      ],
      "metadata": {
        "id": "Fagb9B0sK_NE"
      }
    },
    {
      "cell_type": "code",
      "source": [
        "from heapq import heappop, heappush\n",
        "\n",
        "def a_star(graph, a, p, h):\n",
        "    list = []\n",
        "    heappush(list, (0, a))\n",
        "    asdf = {a: 0}\n",
        "    _from = {}\n",
        "\n",
        "    while list:\n",
        "        _, current = heappop(list)\n",
        "\n",
        "        if current == p:\n",
        "            path = []\n",
        "            while current in _from:\n",
        "                path.append(current)\n",
        "                current = _from[current]\n",
        "            path.append(a)\n",
        "            path.reverse()\n",
        "            return path\n",
        "\n",
        "        for neighbor in graph[current]:\n",
        "            tentative = asdf[current] + graph[current][neighbor]\n",
        "            if neighbor not in asdf or tentative < asdf[neighbor]:\n",
        "                asdf[neighbor] = tentative\n",
        "                f = tentative + h(neighbor)\n",
        "                heappush(list, (f, neighbor))\n",
        "                _from[neighbor] = current\n",
        "\n",
        "    return None\n",
        "graph = {\n",
        "    'A': {'B': 6, 'C': 3, 'D': 5},\n",
        "    'B': {'E': 1, 'F': 2, 'G': 4},'C': {'H': 6},'D': {'I': 9, 'J': 7, 'K': 16},\n",
        "    'E': {'L': 15},'F': {'M': 8},'G': {'N': 43},'H': {'O': 33, 'P': 4},'I': {'Q': 17, 'R': 23},'J': {'S': 33},'K': {'T': 20},\n",
        "    'L': {},'M': {},'N': {},'O': {},'P': {},'Q': {},'R': {},'S': {},'T': {}\n",
        "    }\n",
        "def heuristic(node):\n",
        "    h_values = {\n",
        "        'A': 16, 'B': 15, 'C': 7, 'D': 11,\n",
        "        'E': 14, 'F': 18, 'G': 22, 'H': 6,\n",
        "        'I': 4, 'J': 2, 'K': 10, 'L': 22,\n",
        "        'M': 32, 'N': 14, 'O': 20, 'P': 0,\n",
        "        'Q': 44, 'R': 13, 'S': 25, 'T': 40\n",
        "    }\n",
        "    return h_values.get(node, 0)\n",
        "print(\"A* path:\")\n",
        "path = a_star(graph, 'A', 'P', heuristic)\n",
        "print(path)\n"
      ],
      "metadata": {
        "colab": {
          "base_uri": "https://localhost:8080/"
        },
        "id": "1JuPnbeRKIPU",
        "outputId": "c720ae6b-bb79-4302-a98c-a5198cec9fff"
      },
      "execution_count": null,
      "outputs": [
        {
          "output_type": "stream",
          "name": "stdout",
          "text": [
            "A* path:\n",
            "['A', 'C', 'H', 'P']\n"
          ]
        }
      ]
    },
    {
      "cell_type": "markdown",
      "source": [
        "2.Best First Search(BFS):-"
      ],
      "metadata": {
        "id": "1nRIn0IBPtYo"
      }
    },
    {
      "cell_type": "code",
      "source": [
        "def best_first_search(graph, a, p, h):\n",
        "    list = [(a, [a])]\n",
        "    closed = []\n",
        "\n",
        "    while list:\n",
        "        list.sort(key=lambda x: h[x[0]])\n",
        "        current_node, path = list.pop(0)\n",
        "\n",
        "        if current_node == p:\n",
        "            return path\n",
        "\n",
        "        closed.append(current_node)\n",
        "\n",
        "        for neighbor, cost in graph[current_node]:\n",
        "            if neighbor not in closed:\n",
        "                list.append((neighbor, path + [neighbor]))\n",
        "\n",
        "    return None\n",
        "\n",
        "graph = {\n",
        "    'A': [('B', 24), ('C', 16), ('D', 33)],\n",
        "    'B': [('E', 42), ('F', 6), ('G', 12)],'C': [('H', 4)],'D': [('I', 36), ('J', 64), ('K', 10)],\n",
        "    'E': [('L', 14)],'F': [('M', 26)],'G': [('N', 40)],'H': [('O', 17), ('P', 0)],'I': [('Q', 13), ('R', 21)],'J': [('S', 34)],'K': [('T', 69)],\n",
        "    'L': [],'M': [],'N': [],'O': [],'P': [],'Q': [],'R': [],'S': [],'T': []\n",
        "}\n",
        "\n",
        "\n",
        "h = {\n",
        "    'A': 4, 'B': 6, 'C': 2, 'D': 17, 'E': 46, 'F': 58, 'G': 26, 'H': 45, 'I': 89, 'J': 67, 'K': 51,\n",
        "    'L': 9, 'M': 6, 'N': 36, 'O': 22, 'P': 0, 'Q': 14, 'R': 33, 'S': 89, 'T': 24\n",
        "}\n",
        "\n",
        "path_best_first = best_first_search(graph, 'A', 'P', h)\n",
        "print(f\"Best-First Search Path: {path_best_first}\")\n"
      ],
      "metadata": {
        "colab": {
          "base_uri": "https://localhost:8080/"
        },
        "id": "k9GOu9u8PtBM",
        "outputId": "5ed1cc76-579d-421c-d599-fc5f65e79ff3"
      },
      "execution_count": null,
      "outputs": [
        {
          "output_type": "stream",
          "name": "stdout",
          "text": [
            "Best-First Search Path: ['A', 'C', 'H', 'P']\n"
          ]
        }
      ]
    },
    {
      "cell_type": "markdown",
      "source": [
        "Adversarial Search technique:-\n",
        "1.Min-Max\n",
        "2.Alpha-Beta"
      ],
      "metadata": {
        "id": "6V9odu5wQ0BW"
      }
    },
    {
      "cell_type": "markdown",
      "source": [
        "1.Min-Max :-"
      ],
      "metadata": {
        "id": "Xeopa17wRr_G"
      }
    },
    {
      "cell_type": "code",
      "source": [
        "def min_max(graph, node, is_maximizing):\n",
        "    if node not in graph or not graph[node]:\n",
        "        return evaluate(node)\n",
        "\n",
        "    if is_maximizing:\n",
        "        value = float('-inf')\n",
        "        for child in graph[node]:\n",
        "            value = min_max(graph, child, False)\n",
        "            value = max(value, value)\n",
        "        return value\n",
        "    else:\n",
        "        value = float('inf')\n",
        "        for child in graph[node]:\n",
        "            value = min_max(graph, child, True)\n",
        "            value = min(value, value)\n",
        "        return value\n",
        "\n",
        "def evaluate(node):\n",
        "    goal_node = 'P'\n",
        "    if node == goal_node:\n",
        "        return 1\n",
        "    else:\n",
        "        return 0\n",
        "\n",
        "graph = {\n",
        "    'A': ['B', 'C', 'D'],\n",
        "    'B': ['E', 'F', 'G'],'C': ['H'],'D': ['I', 'J', 'K'],\n",
        "    'E': ['L'],'F': ['M'],'G': ['N'],'H': ['O', 'P'],'I': ['Q', 'R'],'J': ['S'],'K': ['T'],\n",
        "    'L': [],'M': [],'N': [],'O': [],'P': [],'Q': [],'R': [],'S': [],'T': []\n",
        "}\n",
        "\n",
        "result = min_max(graph, 'A', True)\n",
        "print(f\"Min-Max Result: {result}\")\n"
      ],
      "metadata": {
        "colab": {
          "base_uri": "https://localhost:8080/"
        },
        "id": "-9kF4CY6RwKM",
        "outputId": "8c580005-bc1f-4c28-c503-5094f9dd4725"
      },
      "execution_count": null,
      "outputs": [
        {
          "output_type": "stream",
          "name": "stdout",
          "text": [
            "Min-Max Result: 0\n"
          ]
        }
      ]
    },
    {
      "cell_type": "markdown",
      "source": [
        "2.Alpha-Beta Pruning:-"
      ],
      "metadata": {
        "id": "0_D1so4_U0IW"
      }
    },
    {
      "cell_type": "code",
      "execution_count": null,
      "metadata": {
        "id": "JNzX1oRnQvdZ",
        "colab": {
          "base_uri": "https://localhost:8080/"
        },
        "outputId": "978639fd-d64f-406e-82db-a4b847de85db"
      },
      "outputs": [
        {
          "output_type": "stream",
          "name": "stdout",
          "text": [
            "Alpha-Beta Result: 1\n"
          ]
        }
      ],
      "source": [
        "def alpha_beta(graph, node, depth, alpha, beta, is_maximizing):\n",
        "    if node not in graph or not graph[node]:\n",
        "        return evaluate(node)\n",
        "\n",
        "    if is_maximizing:\n",
        "        value = float('-inf')\n",
        "        for child in graph[node]:\n",
        "            value1 = alpha_beta(graph, child, depth + 1, alpha, beta, False)\n",
        "            value = max(value, value1)\n",
        "            alpha = max(alpha, value)\n",
        "            if beta <= alpha:\n",
        "                break\n",
        "        return value\n",
        "    else:\n",
        "        value = float('inf')\n",
        "        for child in graph[node]:\n",
        "            value1 = alpha_beta(graph, child, depth + 1, alpha, beta, True)\n",
        "            value = min(value, value1)\n",
        "            beta = min(beta, value)\n",
        "            if beta <= alpha:\n",
        "                break\n",
        "        return value\n",
        "\n",
        "def evaluate(node):\n",
        "    goal_node = 'P'\n",
        "    if node == goal_node:\n",
        "        return 1\n",
        "    else:\n",
        "        return 0\n",
        "graph = {\n",
        "    'A': ['B', 'C', 'D'],\n",
        "    'B': ['E', 'F', 'G'],'C': ['H'],'D': ['I', 'J', 'K'],\n",
        "    'E': ['L'],'F': ['M'],'G': ['N'],'H': ['O', 'P'],'I': ['Q', 'R'],'J': ['S'],'K': ['T'],\n",
        "    'L': [],'M': [],'N': [],'O': [],'P': [],'Q': [],'R': [],'S': [],'T': []\n",
        "}\n",
        "result = alpha_beta(graph, 'A', 0, float('-inf'), float('inf'), True)\n",
        "print(f\"Alpha-Beta Result: {result}\")\n"
      ]
    }
  ]
}